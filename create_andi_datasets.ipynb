{
 "cells": [
  {
   "cell_type": "code",
   "execution_count": 4,
   "id": "ea658a87",
   "metadata": {},
   "outputs": [],
   "source": [
    "import numpy as np\n",
    "import andi_code as andi"
   ]
  },
  {
   "cell_type": "code",
   "execution_count": 5,
   "id": "8a809e56",
   "metadata": {},
   "outputs": [
    {
     "data": {
      "text/plain": [
       "['attm', 'ctrw', 'fbm', 'lw', 'sbm']"
      ]
     },
     "execution_count": 5,
     "metadata": {},
     "output_type": "execute_result"
    }
   ],
   "source": [
    "AD = andi.andi_datasets()\n",
    "AD.avail_models_name"
   ]
  },
  {
   "cell_type": "code",
   "execution_count": 6,
   "id": "1dc3ed3b",
   "metadata": {},
   "outputs": [
    {
     "name": "stdout",
     "output_type": "stream",
     "text": [
      "Creating a dataset for task(s) [1, 2] and dimension(s) [2].\n",
      "Generating dataset for dimension 2.\n"
     ]
    },
    {
     "name": "stderr",
     "output_type": "stream",
     "text": [
<<<<<<< HEAD
      "100%|█████████████████████████████████████| 16000/16000 [00:11<00:00, 1450.16it/s, exponent=0.05, model=attm, saving=1]\n",
      "100%|██████████████████████████████████████| 16000/16000 [00:05<00:00, 3143.47it/s, exponent=0.1, model=attm, saving=1]\n",
      "100%|█████████████████████████████████████| 16000/16000 [00:04<00:00, 3551.37it/s, exponent=0.15, model=attm, saving=1]\n",
      "100%|██████████████████████████████████████| 16000/16000 [00:04<00:00, 3451.28it/s, exponent=0.2, model=attm, saving=1]\n",
      "100%|█████████████████████████████████████| 16000/16000 [00:05<00:00, 3128.35it/s, exponent=0.25, model=attm, saving=1]\n",
      "100%|██████████████████████████████████████| 16000/16000 [00:05<00:00, 2746.39it/s, exponent=0.3, model=attm, saving=1]\n",
      "100%|█████████████████████████████████████| 16000/16000 [00:07<00:00, 2281.29it/s, exponent=0.35, model=attm, saving=1]\n",
      "100%|██████████████████████████████████████| 16000/16000 [00:08<00:00, 1901.97it/s, exponent=0.4, model=attm, saving=1]\n",
      "100%|█████████████████████████████████████| 16000/16000 [00:10<00:00, 1555.31it/s, exponent=0.45, model=attm, saving=1]\n",
      "100%|██████████████████████████████████████| 16000/16000 [00:12<00:00, 1263.55it/s, exponent=0.5, model=attm, saving=1]\n",
      "100%|█████████████████████████████████████| 16000/16000 [00:15<00:00, 1040.11it/s, exponent=0.55, model=attm, saving=1]\n",
      "100%|███████████████████████████████████████| 16000/16000 [00:19<00:00, 840.22it/s, exponent=0.6, model=attm, saving=1]\n",
      "100%|██████████████████████████████████████| 16000/16000 [00:23<00:00, 688.91it/s, exponent=0.65, model=attm, saving=1]\n",
      "100%|███████████████████████████████████████| 16000/16000 [00:28<00:00, 563.70it/s, exponent=0.7, model=attm, saving=1]\n",
      "100%|██████████████████████████████████████| 16000/16000 [00:34<00:00, 462.18it/s, exponent=0.75, model=attm, saving=1]\n",
      "100%|███████████████████████████████████████| 16000/16000 [00:41<00:00, 386.14it/s, exponent=0.8, model=attm, saving=1]\n",
      "100%|██████████████████████████████████████| 16000/16000 [00:50<00:00, 313.76it/s, exponent=0.85, model=attm, saving=1]\n",
      "100%|███████████████████████████████████████| 16000/16000 [00:59<00:00, 270.31it/s, exponent=0.9, model=attm, saving=1]\n",
      "100%|██████████████████████████████████████| 16000/16000 [01:08<00:00, 232.20it/s, exponent=0.95, model=attm, saving=1]\n",
      "100%|█████████████████████████████████████████| 16000/16000 [01:20<00:00, 199.23it/s, exponent=1, model=attm, saving=1]\n",
      "100%|█████████████████████████████████████| 16000/16000 [00:02<00:00, 7099.75it/s, exponent=0.05, model=ctrw, saving=1]\n",
      "100%|██████████████████████████████████████| 16000/16000 [00:02<00:00, 6947.76it/s, exponent=0.1, model=ctrw, saving=1]\n",
      "100%|█████████████████████████████████████| 16000/16000 [00:02<00:00, 6958.93it/s, exponent=0.15, model=ctrw, saving=1]\n",
      "100%|██████████████████████████████████████| 16000/16000 [00:02<00:00, 6640.05it/s, exponent=0.2, model=ctrw, saving=1]\n",
      "100%|█████████████████████████████████████| 16000/16000 [00:02<00:00, 6593.73it/s, exponent=0.25, model=ctrw, saving=1]\n",
      "100%|██████████████████████████████████████| 16000/16000 [00:02<00:00, 6416.14it/s, exponent=0.3, model=ctrw, saving=1]\n",
      "100%|█████████████████████████████████████| 16000/16000 [00:02<00:00, 6226.51it/s, exponent=0.35, model=ctrw, saving=1]\n",
      "100%|██████████████████████████████████████| 16000/16000 [00:02<00:00, 5937.17it/s, exponent=0.4, model=ctrw, saving=1]\n",
      "100%|█████████████████████████████████████| 16000/16000 [00:02<00:00, 5600.42it/s, exponent=0.45, model=ctrw, saving=1]\n",
      "100%|██████████████████████████████████████| 16000/16000 [00:03<00:00, 5277.19it/s, exponent=0.5, model=ctrw, saving=1]\n",
      "100%|█████████████████████████████████████| 16000/16000 [00:03<00:00, 4878.07it/s, exponent=0.55, model=ctrw, saving=1]\n",
      "100%|██████████████████████████████████████| 16000/16000 [00:03<00:00, 4477.75it/s, exponent=0.6, model=ctrw, saving=1]\n",
      "100%|█████████████████████████████████████| 16000/16000 [00:03<00:00, 4074.91it/s, exponent=0.65, model=ctrw, saving=1]\n",
      "100%|██████████████████████████████████████| 16000/16000 [00:04<00:00, 3691.53it/s, exponent=0.7, model=ctrw, saving=1]\n",
      "100%|█████████████████████████████████████| 16000/16000 [00:04<00:00, 3355.91it/s, exponent=0.75, model=ctrw, saving=1]\n",
      "100%|██████████████████████████████████████| 16000/16000 [00:05<00:00, 3005.98it/s, exponent=0.8, model=ctrw, saving=1]\n",
      "100%|█████████████████████████████████████| 16000/16000 [00:05<00:00, 2685.06it/s, exponent=0.85, model=ctrw, saving=1]\n",
      "100%|██████████████████████████████████████| 16000/16000 [00:06<00:00, 2409.68it/s, exponent=0.9, model=ctrw, saving=1]\n",
      "100%|█████████████████████████████████████| 16000/16000 [00:07<00:00, 2185.97it/s, exponent=0.95, model=ctrw, saving=1]\n",
      "100%|████████████████████████████████████████| 16000/16000 [00:07<00:00, 2125.40it/s, exponent=1, model=ctrw, saving=1]\n",
      "100%|████████████████████████████████████████| 10000/10000 [07:40<00:00, 21.73it/s, exponent=0.05, model=fbm, saving=1]\n",
      "100%|█████████████████████████████████████████| 10000/10000 [07:39<00:00, 21.74it/s, exponent=0.1, model=fbm, saving=1]\n",
      "100%|████████████████████████████████████████| 10000/10000 [07:38<00:00, 21.81it/s, exponent=0.15, model=fbm, saving=1]\n",
      "100%|█████████████████████████████████████████| 10000/10000 [07:37<00:00, 21.88it/s, exponent=0.2, model=fbm, saving=1]\n",
      "100%|████████████████████████████████████████| 10000/10000 [07:37<00:00, 21.87it/s, exponent=0.25, model=fbm, saving=1]\n",
      "100%|█████████████████████████████████████████| 10000/10000 [07:37<00:00, 21.86it/s, exponent=0.3, model=fbm, saving=1]\n",
      "100%|████████████████████████████████████████| 10000/10000 [07:37<00:00, 21.88it/s, exponent=0.35, model=fbm, saving=1]\n",
      "100%|█████████████████████████████████████████| 10000/10000 [07:37<00:00, 21.88it/s, exponent=0.4, model=fbm, saving=1]\n",
      "100%|████████████████████████████████████████| 10000/10000 [07:36<00:00, 21.89it/s, exponent=0.45, model=fbm, saving=1]\n",
      "100%|█████████████████████████████████████████| 10000/10000 [07:37<00:00, 21.86it/s, exponent=0.5, model=fbm, saving=1]\n",
      "100%|████████████████████████████████████████| 10000/10000 [07:36<00:00, 21.89it/s, exponent=0.55, model=fbm, saving=1]\n",
      "100%|█████████████████████████████████████████| 10000/10000 [07:38<00:00, 21.83it/s, exponent=0.6, model=fbm, saving=1]\n",
      "100%|████████████████████████████████████████| 10000/10000 [07:37<00:00, 21.88it/s, exponent=0.65, model=fbm, saving=1]\n",
      "100%|█████████████████████████████████████████| 10000/10000 [07:37<00:00, 21.85it/s, exponent=0.7, model=fbm, saving=1]\n",
      "100%|████████████████████████████████████████| 10000/10000 [07:36<00:00, 21.89it/s, exponent=0.75, model=fbm, saving=1]\n",
      "100%|█████████████████████████████████████████| 10000/10000 [07:36<00:00, 21.89it/s, exponent=0.8, model=fbm, saving=1]\n",
      "100%|████████████████████████████████████████| 10000/10000 [07:39<00:00, 21.75it/s, exponent=0.85, model=fbm, saving=1]\n",
      "100%|█████████████████████████████████████████| 10000/10000 [07:36<00:00, 21.89it/s, exponent=0.9, model=fbm, saving=1]\n",
      "100%|████████████████████████████████████████| 10000/10000 [07:36<00:00, 21.89it/s, exponent=0.95, model=fbm, saving=1]\n",
      "100%|█████████████████████████████████████████| 10000/10000 [00:01<00:00, 6283.93it/s, exponent=1, model=fbm, saving=1]\n",
      "100%|████████████████████████████████████████| 10000/10000 [07:39<00:00, 21.75it/s, exponent=1.05, model=fbm, saving=1]\n",
      "100%|█████████████████████████████████████████| 10000/10000 [07:38<00:00, 21.82it/s, exponent=1.1, model=fbm, saving=1]\n",
      "100%|████████████████████████████████████████| 10000/10000 [07:38<00:00, 21.82it/s, exponent=1.15, model=fbm, saving=1]\n",
      "100%|█████████████████████████████████████████| 10000/10000 [07:37<00:00, 21.87it/s, exponent=1.2, model=fbm, saving=1]\n",
      "100%|████████████████████████████████████████| 10000/10000 [07:37<00:00, 21.85it/s, exponent=1.25, model=fbm, saving=1]\n",
      "100%|█████████████████████████████████████████| 10000/10000 [07:37<00:00, 21.85it/s, exponent=1.3, model=fbm, saving=1]\n",
      "100%|████████████████████████████████████████| 10000/10000 [07:37<00:00, 21.86it/s, exponent=1.35, model=fbm, saving=1]\n",
      "100%|█████████████████████████████████████████| 10000/10000 [07:37<00:00, 21.88it/s, exponent=1.4, model=fbm, saving=1]\n",
      "100%|████████████████████████████████████████| 10000/10000 [07:37<00:00, 21.85it/s, exponent=1.45, model=fbm, saving=1]\n",
      "100%|█████████████████████████████████████████| 10000/10000 [07:35<00:00, 21.95it/s, exponent=1.5, model=fbm, saving=1]\n",
      "100%|████████████████████████████████████████| 10000/10000 [07:39<00:00, 21.77it/s, exponent=1.55, model=fbm, saving=1]\n",
      "100%|█████████████████████████████████████████| 10000/10000 [08:00<00:00, 20.80it/s, exponent=1.6, model=fbm, saving=1]\n",
      "100%|████████████████████████████████████████| 10000/10000 [08:42<00:00, 19.12it/s, exponent=1.65, model=fbm, saving=1]\n",
      " 91%|██████████████████████████████████████    | 9057/10000 [07:53<00:43, 21.73it/s, exponent=1.7, model=fbm, saving=1]"
=======
      "100%|█| 2000/2000 [00:01<00:00, 1339.89it/s, exponent=0.05, model=attm, saving\n",
      "100%|█| 2000/2000 [00:00<00:00, 2695.68it/s, exponent=0.1, model=attm, saving=\n",
      "100%|█| 2000/2000 [00:00<00:00, 3134.65it/s, exponent=0.15, model=attm, saving\n",
      "100%|█| 2000/2000 [00:00<00:00, 2805.20it/s, exponent=0.2, model=attm, saving=\n",
      "100%|█| 2000/2000 [00:00<00:00, 2561.74it/s, exponent=0.25, model=attm, saving\n",
      "100%|█| 2000/2000 [00:00<00:00, 2168.35it/s, exponent=0.3, model=attm, saving=\n",
      "100%|█| 2000/2000 [00:01<00:00, 1862.02it/s, exponent=0.35, model=attm, saving\n",
      "100%|█| 2000/2000 [00:01<00:00, 1642.46it/s, exponent=0.4, model=attm, saving=\n",
      "100%|█| 2000/2000 [00:01<00:00, 1271.95it/s, exponent=0.45, model=attm, saving\n",
      "100%|█| 2000/2000 [00:01<00:00, 1137.45it/s, exponent=0.5, model=attm, saving=\n",
      "100%|█| 2000/2000 [00:01<00:00, 1015.98it/s, exponent=0.55, model=attm, saving\n",
      "100%|█| 2000/2000 [00:01<00:00, 1263.71it/s, exponent=0.6, model=attm, saving=\n",
      "100%|█| 2000/2000 [00:01<00:00, 1109.16it/s, exponent=0.65, model=attm, saving\n",
      "100%|█| 2000/2000 [00:02<00:00, 921.31it/s, exponent=0.7, model=attm, saving=1\n",
      "100%|█| 2000/2000 [00:03<00:00, 620.58it/s, exponent=0.75, model=attm, saving=\n",
      "100%|█| 2000/2000 [00:03<00:00, 526.91it/s, exponent=0.8, model=attm, saving=1\n",
      "100%|█| 2000/2000 [00:05<00:00, 344.13it/s, exponent=0.85, model=attm, saving=\n",
      "100%|█| 2000/2000 [00:08<00:00, 227.43it/s, exponent=0.9, model=attm, saving=1\n",
      "100%|█| 2000/2000 [00:10<00:00, 194.72it/s, exponent=0.95, model=attm, saving=\n",
      "100%|██| 2000/2000 [00:11<00:00, 176.20it/s, exponent=1, model=attm, saving=1]\n",
      "100%|█| 2000/2000 [00:00<00:00, 5753.97it/s, exponent=0.05, model=ctrw, saving\n",
      "100%|█| 2000/2000 [00:00<00:00, 5714.68it/s, exponent=0.1, model=ctrw, saving=\n",
      "100%|█| 2000/2000 [00:00<00:00, 6081.44it/s, exponent=0.15, model=ctrw, saving\n",
      "100%|█| 2000/2000 [00:00<00:00, 8257.58it/s, exponent=0.2, model=ctrw, saving=\n",
      "100%|█| 2000/2000 [00:00<00:00, 8150.93it/s, exponent=0.25, model=ctrw, saving\n",
      "100%|█| 2000/2000 [00:00<00:00, 8121.96it/s, exponent=0.3, model=ctrw, saving=\n",
      "100%|█| 2000/2000 [00:00<00:00, 7954.18it/s, exponent=0.35, model=ctrw, saving\n",
      "100%|█| 2000/2000 [00:00<00:00, 7619.15it/s, exponent=0.4, model=ctrw, saving=\n",
      "100%|█| 2000/2000 [00:00<00:00, 7422.17it/s, exponent=0.45, model=ctrw, saving\n",
      "100%|█| 2000/2000 [00:00<00:00, 7019.40it/s, exponent=0.5, model=ctrw, saving=\n",
      "100%|█| 2000/2000 [00:00<00:00, 6747.83it/s, exponent=0.55, model=ctrw, saving\n",
      "100%|█| 2000/2000 [00:00<00:00, 6322.35it/s, exponent=0.6, model=ctrw, saving=\n",
      "100%|█| 2000/2000 [00:00<00:00, 5976.99it/s, exponent=0.65, model=ctrw, saving\n",
      "100%|█| 2000/2000 [00:00<00:00, 5522.59it/s, exponent=0.7, model=ctrw, saving=\n",
      "100%|█| 2000/2000 [00:00<00:00, 4978.57it/s, exponent=0.75, model=ctrw, saving\n",
      "100%|█| 2000/2000 [00:00<00:00, 4676.67it/s, exponent=0.8, model=ctrw, saving=\n",
      "100%|█| 2000/2000 [00:00<00:00, 4312.85it/s, exponent=0.85, model=ctrw, saving\n",
      "100%|█| 2000/2000 [00:00<00:00, 3993.86it/s, exponent=0.9, model=ctrw, saving=\n",
      "100%|█| 2000/2000 [00:00<00:00, 3637.91it/s, exponent=0.95, model=ctrw, saving\n",
      "100%|█| 2000/2000 [00:00<00:00, 3919.45it/s, exponent=1, model=ctrw, saving=1]\n",
      "100%|█| 2000/2000 [01:18<00:00, 25.40it/s, exponent=0.05, model=fbm, saving=1]\n",
      "100%|██| 2000/2000 [01:19<00:00, 25.19it/s, exponent=0.1, model=fbm, saving=1]\n",
      "100%|█| 2000/2000 [00:57<00:00, 35.08it/s, exponent=0.15, model=fbm, saving=1]\n",
      "100%|██| 2000/2000 [01:24<00:00, 23.70it/s, exponent=0.2, model=fbm, saving=1]\n",
      "100%|█| 2000/2000 [01:00<00:00, 33.21it/s, exponent=0.25, model=fbm, saving=1]\n",
      "100%|██| 2000/2000 [01:14<00:00, 26.74it/s, exponent=0.3, model=fbm, saving=1]\n",
      "100%|█| 2000/2000 [01:18<00:00, 25.46it/s, exponent=0.35, model=fbm, saving=1]\n",
      "100%|██| 2000/2000 [01:21<00:00, 24.50it/s, exponent=0.4, model=fbm, saving=1]\n",
      "100%|█| 2000/2000 [01:38<00:00, 20.23it/s, exponent=0.45, model=fbm, saving=1]\n",
      "100%|██| 2000/2000 [01:30<00:00, 22.13it/s, exponent=0.5, model=fbm, saving=1]\n",
      "100%|█| 2000/2000 [01:25<00:00, 23.31it/s, exponent=0.55, model=fbm, saving=1]\n",
      "100%|██| 2000/2000 [01:14<00:00, 26.99it/s, exponent=0.6, model=fbm, saving=1]\n",
      "100%|█| 2000/2000 [01:27<00:00, 22.91it/s, exponent=0.65, model=fbm, saving=1]\n",
      "100%|██| 2000/2000 [01:19<00:00, 25.11it/s, exponent=0.7, model=fbm, saving=1]\n",
      "100%|█| 2000/2000 [01:12<00:00, 27.59it/s, exponent=0.75, model=fbm, saving=1]\n",
      "100%|██| 2000/2000 [01:28<00:00, 22.60it/s, exponent=0.8, model=fbm, saving=1]\n",
      "100%|█| 2000/2000 [00:54<00:00, 36.53it/s, exponent=0.85, model=fbm, saving=1]\n",
      "100%|██| 2000/2000 [01:34<00:00, 21.25it/s, exponent=0.9, model=fbm, saving=1]\n",
      "100%|█| 2000/2000 [01:18<00:00, 25.43it/s, exponent=0.95, model=fbm, saving=1]\n",
      "100%|██| 2000/2000 [00:00<00:00, 8143.10it/s, exponent=1, model=fbm, saving=1]\n",
      "100%|█| 2000/2000 [01:09<00:00, 28.90it/s, exponent=1.05, model=fbm, saving=1]\n",
      "100%|██| 2000/2000 [01:27<00:00, 22.89it/s, exponent=1.1, model=fbm, saving=1]\n",
      "100%|█| 2000/2000 [01:20<00:00, 24.84it/s, exponent=1.15, model=fbm, saving=1]\n",
      "100%|██| 2000/2000 [01:23<00:00, 24.08it/s, exponent=1.2, model=fbm, saving=1]\n",
      "100%|█| 2000/2000 [01:22<00:00, 24.33it/s, exponent=1.25, model=fbm, saving=1]\n",
      "100%|██| 2000/2000 [01:15<00:00, 26.48it/s, exponent=1.3, model=fbm, saving=1]\n",
      "100%|█| 2000/2000 [01:24<00:00, 23.62it/s, exponent=1.35, model=fbm, saving=1]\n",
      "100%|██| 2000/2000 [01:16<00:00, 25.99it/s, exponent=1.4, model=fbm, saving=1]\n",
      "100%|█| 2000/2000 [01:24<00:00, 23.53it/s, exponent=1.45, model=fbm, saving=1]\n",
      "100%|██| 2000/2000 [01:15<00:00, 26.50it/s, exponent=1.5, model=fbm, saving=1]\n",
      "100%|█| 2000/2000 [01:25<00:00, 23.45it/s, exponent=1.55, model=fbm, saving=1]\n",
      "100%|██| 2000/2000 [01:03<00:00, 31.49it/s, exponent=1.6, model=fbm, saving=1]\n",
      "100%|█| 2000/2000 [01:17<00:00, 25.78it/s, exponent=1.65, model=fbm, saving=1]\n",
      "100%|██| 2000/2000 [01:37<00:00, 20.59it/s, exponent=1.7, model=fbm, saving=1]\n",
      "100%|█| 2000/2000 [01:32<00:00, 21.62it/s, exponent=1.75, model=fbm, saving=1]\n",
      "100%|██| 2000/2000 [53:44<00:00,  1.61s/it, exponent=1.8, model=fbm, saving=1]\n",
      "100%|█| 2000/2000 [54:09<00:00,  1.62s/it, exponent=1.85, model=fbm, saving=1]\n",
      "100%|██| 2000/2000 [55:05<00:00,  1.65s/it, exponent=1.9, model=fbm, saving=1]\n",
      "100%|█| 2000/2000 [1:00:13<00:00,  1.81s/it, exponent=1.95, model=fbm, saving=\n",
      "100%|██| 2000/2000 [00:29<00:00, 67.49it/s, exponent=1.05, model=lw, saving=1]\n",
      "100%|███| 2000/2000 [00:49<00:00, 40.28it/s, exponent=1.1, model=lw, saving=1]\n",
      "100%|██| 2000/2000 [00:51<00:00, 38.93it/s, exponent=1.15, model=lw, saving=1]\n",
      "100%|███| 2000/2000 [00:46<00:00, 43.34it/s, exponent=1.2, model=lw, saving=1]\n",
      "100%|██| 2000/2000 [00:37<00:00, 53.11it/s, exponent=1.25, model=lw, saving=1]\n",
      "100%|███| 2000/2000 [00:41<00:00, 47.80it/s, exponent=1.3, model=lw, saving=1]\n",
      "100%|██| 2000/2000 [00:45<00:00, 43.50it/s, exponent=1.35, model=lw, saving=1]\n",
      "100%|███| 2000/2000 [00:38<00:00, 51.46it/s, exponent=1.4, model=lw, saving=1]\n",
      "100%|██| 2000/2000 [00:40<00:00, 49.64it/s, exponent=1.45, model=lw, saving=1]\n",
      "100%|███| 2000/2000 [00:38<00:00, 52.28it/s, exponent=1.5, model=lw, saving=1]\n",
      "100%|██| 2000/2000 [00:36<00:00, 54.53it/s, exponent=1.55, model=lw, saving=1]\n",
      "100%|███| 2000/2000 [00:33<00:00, 59.05it/s, exponent=1.6, model=lw, saving=1]\n",
      "100%|██| 2000/2000 [00:20<00:00, 95.78it/s, exponent=1.65, model=lw, saving=1]\n",
      "100%|██| 2000/2000 [00:15<00:00, 126.92it/s, exponent=1.7, model=lw, saving=1]\n",
      "100%|█| 2000/2000 [00:14<00:00, 134.33it/s, exponent=1.75, model=lw, saving=1]\n",
      "100%|██| 2000/2000 [00:13<00:00, 145.31it/s, exponent=1.8, model=lw, saving=1]\n",
      "100%|█| 2000/2000 [00:12<00:00, 160.78it/s, exponent=1.85, model=lw, saving=1]\n",
      "100%|██| 2000/2000 [00:09<00:00, 200.93it/s, exponent=1.9, model=lw, saving=1]\n",
      "100%|█| 2000/2000 [00:15<00:00, 131.75it/s, exponent=1.95, model=lw, saving=1]\n",
      "100%|████| 2000/2000 [00:04<00:00, 487.09it/s, exponent=2, model=lw, saving=1]\n",
      "100%|█| 2000/2000 [00:00<00:00, 4061.41it/s, exponent=0.05, model=sbm, saving=\n",
      "100%|█| 2000/2000 [00:00<00:00, 4044.15it/s, exponent=0.1, model=sbm, saving=1\n",
      "100%|█| 2000/2000 [00:00<00:00, 4032.81it/s, exponent=0.15, model=sbm, saving=\n",
      "100%|█| 2000/2000 [00:00<00:00, 4022.77it/s, exponent=0.2, model=sbm, saving=1\n"
     ]
    },
    {
     "name": "stderr",
     "output_type": "stream",
     "text": [
      "100%|█| 2000/2000 [00:00<00:00, 3945.47it/s, exponent=0.25, model=sbm, saving=\n",
      "100%|█| 2000/2000 [00:00<00:00, 4541.72it/s, exponent=0.3, model=sbm, saving=1\n",
      "100%|█| 2000/2000 [00:00<00:00, 4534.68it/s, exponent=0.35, model=sbm, saving=\n",
      "100%|█| 2000/2000 [00:00<00:00, 4542.11it/s, exponent=0.4, model=sbm, saving=1\n",
      "100%|█| 2000/2000 [00:00<00:00, 4532.98it/s, exponent=0.45, model=sbm, saving=\n",
      "100%|█| 2000/2000 [00:00<00:00, 4452.82it/s, exponent=0.5, model=sbm, saving=1\n",
      "100%|█| 2000/2000 [00:00<00:00, 4530.77it/s, exponent=0.55, model=sbm, saving=\n",
      "100%|█| 2000/2000 [00:00<00:00, 4538.89it/s, exponent=0.6, model=sbm, saving=1\n",
      "100%|█| 2000/2000 [00:00<00:00, 4526.44it/s, exponent=0.65, model=sbm, saving=\n",
      "100%|█| 2000/2000 [00:00<00:00, 4031.66it/s, exponent=0.7, model=sbm, saving=1\n",
      "100%|█| 2000/2000 [00:00<00:00, 4010.39it/s, exponent=0.75, model=sbm, saving=\n",
      "100%|█| 2000/2000 [00:00<00:00, 4019.02it/s, exponent=0.8, model=sbm, saving=1\n",
      "100%|█| 2000/2000 [00:00<00:00, 4001.38it/s, exponent=0.85, model=sbm, saving=\n",
      "100%|█| 2000/2000 [00:00<00:00, 4008.88it/s, exponent=0.9, model=sbm, saving=1\n",
      "100%|█| 2000/2000 [00:00<00:00, 4018.82it/s, exponent=0.95, model=sbm, saving=\n",
      "100%|██| 2000/2000 [00:00<00:00, 4951.57it/s, exponent=1, model=sbm, saving=1]\n",
      "100%|█| 2000/2000 [00:00<00:00, 4017.00it/s, exponent=1.05, model=sbm, saving=\n",
      "100%|█| 2000/2000 [00:00<00:00, 4025.68it/s, exponent=1.1, model=sbm, saving=1\n",
      "100%|█| 2000/2000 [00:00<00:00, 4511.25it/s, exponent=1.15, model=sbm, saving=\n",
      "100%|█| 2000/2000 [00:00<00:00, 4085.50it/s, exponent=1.2, model=sbm, saving=1\n",
      "100%|█| 2000/2000 [00:00<00:00, 4039.58it/s, exponent=1.25, model=sbm, saving=\n",
      "100%|█| 2000/2000 [00:00<00:00, 4021.19it/s, exponent=1.3, model=sbm, saving=1\n",
      "100%|█| 2000/2000 [00:00<00:00, 4018.94it/s, exponent=1.35, model=sbm, saving=\n",
      "100%|█| 2000/2000 [00:00<00:00, 4034.29it/s, exponent=1.4, model=sbm, saving=1\n",
      "100%|█| 2000/2000 [00:00<00:00, 4041.75it/s, exponent=1.45, model=sbm, saving=\n",
      "100%|█| 2000/2000 [00:00<00:00, 4039.02it/s, exponent=1.5, model=sbm, saving=1\n",
      "100%|█| 2000/2000 [00:00<00:00, 4033.19it/s, exponent=1.55, model=sbm, saving=\n",
      "100%|█| 2000/2000 [00:00<00:00, 4034.92it/s, exponent=1.6, model=sbm, saving=1\n",
      "100%|█| 2000/2000 [00:00<00:00, 4035.19it/s, exponent=1.65, model=sbm, saving=\n",
      "100%|█| 2000/2000 [00:00<00:00, 4036.37it/s, exponent=1.7, model=sbm, saving=1\n",
      "100%|█| 2000/2000 [00:00<00:00, 4020.93it/s, exponent=1.75, model=sbm, saving=\n",
      "100%|█| 2000/2000 [00:00<00:00, 4029.22it/s, exponent=1.8, model=sbm, saving=1\n",
      "100%|█| 2000/2000 [00:00<00:00, 4019.72it/s, exponent=1.85, model=sbm, saving=\n",
      "100%|█| 2000/2000 [00:00<00:00, 4031.38it/s, exponent=1.9, model=sbm, saving=1\n",
      "100%|█| 2000/2000 [00:00<00:00, 4027.08it/s, exponent=1.95, model=sbm, saving=\n",
      "100%|██| 2000/2000 [00:00<00:00, 5240.01it/s, exponent=2, model=sbm, saving=1]\n"
>>>>>>> 691d43a2935b040fedc998d67b19a4491afe30fb
     ]
    }
   ],
   "source": [
    "path = \"datasets/trajectories/2d/validset/\"\n",
    "n_samples = int(1e2)\n",
    "N_save = 2000#500#np.asarray([16000,16000,10000,16000,10000])#500#2000\n",
    "data = AD.andi_dataset(N = n_samples, tasks = [1, 2],\n",
    "                           dimensions = [2],\n",
    "                           load_dataset = False, save_dataset = False, save_trajectories = True, \n",
    "                           path_trajectories = path, N_save = N_save)"
   ]
  },
  {
   "cell_type": "code",
   "execution_count": null,
   "id": "fa7d6cd4",
   "metadata": {},
   "outputs": [],
   "source": []
  },
  {
   "cell_type": "markdown",
   "id": "9dc77a6b",
   "metadata": {},
   "source": [
    "# create dataset with labels for alpha, model, uncertainty!"
   ]
  },
  {
   "cell_type": "code",
   "execution_count": 1,
   "id": "7c4595df",
   "metadata": {},
   "outputs": [],
   "source": [
    "import numpy as np\n",
    "import andi as andi"
   ]
  },
  {
   "cell_type": "code",
   "execution_count": 2,
   "id": "143b9bcd",
   "metadata": {},
   "outputs": [],
   "source": [
    "#create dataset with labels for alpha, model, uncertainty!\n",
    "#no weird shuffling is needed, this is done in training anyway\n",
    "def create_super_dataset(andi_dataset,T,N,dim,exponents,noise_T=None):\n",
    "    n_exp = len(exponents)\n",
    "    # Trajectories per model and exponent. Arbitrarely chosen to obtain balanced classes\n",
    "    n_per_model = np.ceil(1.6*N/5)\n",
    "    subdif, superdif = n_exp//2, n_exp//2+1\n",
    "    n_per_class =  np.zeros((andi_dataset.n_models, n_exp))\n",
    "    # ctrw, attm\n",
    "    n_per_class[:2, :subdif] = np.ceil(n_per_model/subdif)\n",
    "    # fbm\n",
    "    n_per_class[2, :] = np.ceil(n_per_model/(n_exp-1))\n",
    "    n_per_class[2, exponents == 2] = 0 # FBM can't be ballistic\n",
    "    # lw\n",
    "    n_per_class[3, subdif:] = np.ceil((n_per_model/superdif)*0.8)\n",
    "    # sbm\n",
    "    n_per_class[4, :] = np.ceil(n_per_model/n_exp)\n",
    "\n",
    "    if noise_T == None:\n",
    "        noise_T = T\n",
    "    #generate and normalize trajectory at noise_T, then cut down to T\n",
    "    #thereby generating a noise with respect to a trajectory of lenght noise_T\n",
    "    dataset = AD.create_dataset(T=noise_T, N=n_per_class, exponents=exponents, dimension=dim, \n",
    "                                models=np.arange(5))\n",
    "\n",
    "    # Normalize trajectories\n",
    "    n_traj = dataset.shape[0]\n",
    "    norm_trajs = andi.normalize(dataset[:, 2:].reshape(n_traj*dim, noise_T))\n",
    "    dataset[:, 2:] = norm_trajs.reshape(dataset[:, 2:].shape)\n",
    "    if noise_T != T:\n",
    "        #cut trajectories down to lenght T after normalization\n",
    "        dataset = dataset[:,0:T+2]\n",
    "    \n",
    "    \n",
    "    # Add localization error, Gaussian noise with sigma = [0.1, 0.5, 1]\n",
    "\n",
    "    loc_error_amplitude = np.random.choice(np.array([0.1, 0.5, 1]), size = n_traj*dim)\n",
    "    loc_error = (np.random.randn(n_traj*dim, int(T)).transpose()*loc_error_amplitude).transpose()\n",
    "\n",
    "    dataset = andi_dataset.create_noisy_localization_dataset(dataset, dimension = dim, T = T, noise_func = loc_error)\n",
    "    # Add random diffusion coefficients\n",
    "\n",
    "    trajs = dataset[:, 2:].reshape(n_traj*dim, T)\n",
    "    displacements = trajs[:, 1:] - trajs[:, :-1]\n",
    "    # Get new diffusion coefficients and displacements\n",
    "    diffusion_coefficients = np.random.randn(trajs.shape[0])\n",
    "    new_displacements = (displacements.transpose()*diffusion_coefficients).transpose()  \n",
    "    # Generate new trajectories and add to dataset\n",
    "    new_trajs = np.cumsum(new_displacements, axis = 1)\n",
    "    new_trajs = np.concatenate((np.zeros((new_trajs.shape[0], 1)), new_trajs), axis = 1)\n",
    "    dataset[:, 2:] = new_trajs.reshape(dataset[:, 2:].shape)\n",
    "    \n",
    "    #add noise value to dataset\n",
    "    dataset = np.concatenate((loc_error_amplitude.reshape(-1,1),dataset),axis=1)\n",
    "    #swap around to have fom [model,exponent,noise,x_0,x_1,...]\n",
    "    dataset[:,[0,2]] = dataset[:,[2,0]]\n",
    "    dataset[:,[0,1]] = dataset[:,[1,0]]\n",
    "    \n",
    "    \n",
    "    return dataset"
   ]
  },
  {
   "cell_type": "code",
   "execution_count": 3,
   "id": "89d1ee2c",
   "metadata": {},
   "outputs": [
    {
     "name": "stderr",
     "output_type": "stream",
     "text": [
      "/home/hseckler/miniconda3/envs/pytorch_gpu/lib/python3.9/site-packages/fbm/fbm.py:171: UserWarning: Combination of increments n and Hurst value H invalid for Davies-Harte method. Reverting to Hosking method. Occurs when n is small and Hurst is close to 1. \n",
      "  warnings.warn(\n",
      "/home/hseckler/miniconda3/envs/pytorch_gpu/lib/python3.9/site-packages/andi/diffusion_models.py:85: RuntimeWarning: overflow encountered in power\n",
      "  dt = (1-np.random.rand(T))**(-1/sigma)\n"
     ]
    }
   ],
   "source": [
    "AD = andi.andi_datasets()\n",
    "\n",
    "T = 500\n",
    "noise_T = T\n",
    "N = 500000\n",
    "dim = 1\n",
    "exponents = np.arange(0.05, 2.01, 0.05)\n",
    "\n",
    "#output dataset is [model,exponent,noise,x_1,x_2,...]\n",
    "dataset = create_super_dataset(AD,T,N,dim,exponents,noise_T=noise_T)"
   ]
  },
  {
   "cell_type": "code",
   "execution_count": 4,
   "id": "bcb9f36a",
   "metadata": {},
   "outputs": [
    {
     "name": "stdout",
     "output_type": "stream",
     "text": [
      "directory exists\n"
     ]
    }
   ],
   "source": [
    "path = f\"datasets/super/1dim_{T}lenght/\"\n",
    "import os\n",
    "try:\n",
    "    os.mkdir(path)\n",
    "except:\n",
    "    print(\"directory exists\")\n",
    "np.savetxt(path + f\"andiset{N}.txt\", dataset)"
   ]
  },
  {
   "cell_type": "code",
   "execution_count": null,
   "id": "5466f779",
   "metadata": {},
   "outputs": [],
   "source": []
  },
  {
   "cell_type": "code",
   "execution_count": 2,
   "id": "9090a7a5",
   "metadata": {},
   "outputs": [
    {
     "data": {
      "text/plain": [
       "1400000.0"
      ]
     },
     "execution_count": 2,
     "metadata": {},
     "output_type": "execute_result"
    }
   ],
   "source": [
    "import numpy as np\n",
    "len(np.arange(0.05, 2.01, 0.05))*10000*3.5"
   ]
  },
  {
   "cell_type": "code",
   "execution_count": null,
   "id": "1d83883c",
   "metadata": {},
   "outputs": [],
   "source": []
  },
  {
   "cell_type": "markdown",
   "id": "b85aab29",
   "metadata": {},
   "source": [
    "#### FBM vs SBM only datasets"
   ]
  },
  {
   "cell_type": "code",
   "execution_count": 1,
   "id": "4de3047b",
   "metadata": {},
   "outputs": [],
   "source": [
    "import numpy as np\n",
    "import andi as andi"
   ]
  },
  {
   "cell_type": "code",
   "execution_count": 2,
   "id": "ce08f4b4",
   "metadata": {},
   "outputs": [],
   "source": [
    "#create an sbm vs fbm only dataset\n",
    "#create dataset with labels for alpha, model, uncertainty!\n",
    "#no weird shuffling is needed, this is done in training anyway\n",
    "def create_super_dataset_sbmfbm_only(andi_dataset,T,N,dim,exponents,noise_T=None):\n",
    "    n_exp = len(exponents)\n",
    "    # Trajectories per model and exponent. Arbitrarely chosen to obtain balanced classes\n",
    "    n_per_class = int(np.ceil(N/(2*n_exp)))\n",
    "    \n",
    "    if noise_T == None:\n",
    "        noise_T = T\n",
    "    dataset = AD.create_dataset(T=noise_T, N=n_per_class, exponents=exponents, dimension=dim, \n",
    "                             models=[2,4])\n",
    "\n",
    "   \n",
    "\n",
    "    # Normalize trajectories\n",
    "    n_traj = dataset.shape[0]\n",
    "    norm_trajs = andi.normalize(dataset[:, 2:].reshape(n_traj*dim, noise_T))\n",
    "    dataset[:, 2:] = norm_trajs.reshape(dataset[:, 2:].shape)\n",
    "    if noise_T != T:\n",
    "        #cut trajectories down to lenght T after normalization\n",
    "        dataset = dataset[:,0:T+2]\n",
    "    # Add localization error, Gaussian noise with sigma = [0.1, 0.5, 1]\n",
    "\n",
    "    loc_error_amplitude = np.random.choice(np.array([0.1, 0.5, 1]), size = n_traj*dim)\n",
    "    loc_error = (np.random.randn(n_traj*dim, int(T)).transpose()*loc_error_amplitude).transpose()\n",
    "\n",
    "    dataset = andi_dataset.create_noisy_localization_dataset(dataset, dimension = dim, T = T, noise_func = loc_error)\n",
    "    # Add random diffusion coefficients\n",
    "\n",
    "    trajs = dataset[:, 2:].reshape(n_traj*dim, T)\n",
    "    displacements = trajs[:, 1:] - trajs[:, :-1]\n",
    "    # Get new diffusion coefficients and displacements\n",
    "    diffusion_coefficients = np.random.randn(trajs.shape[0])\n",
    "    new_displacements = (displacements.transpose()*diffusion_coefficients).transpose()  \n",
    "    # Generate new trajectories and add to dataset\n",
    "    new_trajs = np.cumsum(new_displacements, axis = 1)\n",
    "    new_trajs = np.concatenate((np.zeros((new_trajs.shape[0], 1)), new_trajs), axis = 1)\n",
    "    dataset[:, 2:] = new_trajs.reshape(dataset[:, 2:].shape)\n",
    "    \n",
    "    #add noise value to dataset\n",
    "    dataset = np.concatenate((loc_error_amplitude.reshape(-1,1),dataset),axis=1)\n",
    "    #swap around to have fom [model,exponent,noise,x_0,x_1,...]\n",
    "    dataset[:,[0,2]] = dataset[:,[2,0]]\n",
    "    dataset[:,[0,1]] = dataset[:,[1,0]]\n",
    "    \n",
    "    \n",
    "    return dataset"
   ]
  },
  {
   "cell_type": "code",
   "execution_count": 3,
   "id": "0cd3ba49",
   "metadata": {},
   "outputs": [
    {
     "name": "stderr",
     "output_type": "stream",
     "text": [
      "E:\\anaconda\\envs\\pytorch_windows\\lib\\site-packages\\fbm\\fbm.py:171: UserWarning: Combination of increments n and Hurst value H invalid for Davies-Harte method. Reverting to Hosking method. Occurs when n is small and Hurst is close to 1. \n",
      "  warnings.warn(\n"
     ]
    }
   ],
   "source": [
    "AD = andi.andi_datasets()\n",
    "\n",
    "T = 100\n",
    "noise_T = T\n",
    "N = 50000\n",
    "dim = 1\n",
    "exponents = np.arange(0.05, 2, 0.05)\n",
    "\n",
    "#output dataset is [model,exponent,noise,x_1,x_2,...]\n",
    "dataset = create_super_dataset_sbmfbm_only(AD,T,N,dim,exponents,noise_T = noise_T)"
   ]
  },
  {
   "cell_type": "code",
   "execution_count": 4,
   "id": "3c1980c9",
   "metadata": {},
   "outputs": [],
   "source": [
    "path = \"datasets/super/1dim_100lenght/\"\n",
    "np.savetxt(path + \"andiset50000_sbmfbm.txt\", dataset)"
   ]
  },
  {
   "cell_type": "code",
   "execution_count": null,
   "id": "e161adb3",
   "metadata": {},
   "outputs": [],
   "source": []
  },
  {
   "cell_type": "code",
   "execution_count": null,
   "id": "7e74f841",
   "metadata": {},
   "outputs": [],
   "source": []
  },
  {
   "cell_type": "code",
   "execution_count": null,
   "id": "86e46688",
   "metadata": {},
   "outputs": [],
   "source": []
  },
  {
   "cell_type": "code",
   "execution_count": 6,
   "id": "7b54a3af",
   "metadata": {},
   "outputs": [
    {
     "name": "stdout",
     "output_type": "stream",
     "text": [
      "Creating a dataset for task(s) [1] and dimension(s) [1].\n",
      "Generating dataset for dimension 1.\n"
     ]
    }
   ],
   "source": [
    "from load_andi_dataset import *\n",
    "\n",
    "T=100\n",
    "noise_T = T\n",
    "N_train = int(3e5)\n",
    "dim = 1\n",
    "use_increments = True\n",
    "model = 2\n",
    "N_save = [16000,16000,10000,16000,1000]\n",
    "\n",
    "#loading from saved trajectories, allows for only one dataset of trajectories usable for all trajectory lenghts\n",
    "train_path = \"datasets/trajectories/\"\n",
    "train_dataset = SingleModel_dataset_from_saved_trajs(path = train_path, task = 1, dim = dim, N_total = N_train,\n",
    "                                                  T = T, N_save = N_save[model], \n",
    "                                                  use_increments = use_increments, model = model)"
   ]
  },
  {
   "cell_type": "code",
   "execution_count": 4,
   "id": "f724c62f",
   "metadata": {},
   "outputs": [
    {
     "name": "stdout",
     "output_type": "stream",
     "text": [
      "40\n",
      "10000.0\n"
     ]
    }
   ],
   "source": []
  },
  {
   "cell_type": "code",
   "execution_count": null,
   "id": "9000a152",
   "metadata": {},
   "outputs": [],
   "source": []
  }
 ],
 "metadata": {
  "kernelspec": {
   "display_name": "Python 3 (ipykernel)",
   "language": "python",
   "name": "python3"
  },
  "language_info": {
   "codemirror_mode": {
    "name": "ipython",
    "version": 3
   },
   "file_extension": ".py",
   "mimetype": "text/x-python",
   "name": "python",
   "nbconvert_exporter": "python",
   "pygments_lexer": "ipython3",
<<<<<<< HEAD
   "version": "3.9.7"
=======
   "version": "3.9.6"
>>>>>>> 691d43a2935b040fedc998d67b19a4491afe30fb
  }
 },
 "nbformat": 4,
 "nbformat_minor": 5
}
