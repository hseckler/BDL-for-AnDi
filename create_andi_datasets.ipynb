{
 "cells": [
  {
   "cell_type": "code",
   "execution_count": null,
   "id": "ea658a87",
   "metadata": {},
   "outputs": [],
   "source": [
    "import numpy as np\n",
    "import andi_code as andi"
   ]
  },
  {
   "cell_type": "code",
   "execution_count": null,
   "id": "8a809e56",
   "metadata": {},
   "outputs": [],
   "source": [
    "AD = andi.andi_datasets()\n",
    "AD.avail_models_name"
   ]
  },
  {
   "cell_type": "code",
   "execution_count": null,
   "id": "1dc3ed3b",
   "metadata": {},
   "outputs": [],
   "source": [
    "#we use the save_trajectories feature inside the dataset to quickly generate custom dataset combinations where needed\n",
    "path = \"datasets/trajectories/2d/validset/\"\n",
    "n_samples = int(1e2)\n",
    "N_save = 2000#500#np.asarray([16000,16000,10000,16000,10000])#500#2000\n",
    "data = AD.andi_dataset(N = n_samples, tasks = [1, 2],\n",
    "                           dimensions = [2],\n",
    "                           load_dataset = False, save_dataset = False, save_trajectories = True, \n",
    "                           path_trajectories = path, N_save = N_save)"
   ]
  },
  {
   "cell_type": "code",
   "execution_count": null,
   "id": "fa7d6cd4",
   "metadata": {},
   "outputs": [],
   "source": []
  },
  {
   "cell_type": "code",
   "execution_count": null,
   "id": "7b54a3af",
   "metadata": {},
   "outputs": [],
   "source": [
    "from load_andi_dataset import *\n",
    "\n",
    "T=100\n",
    "noise_T = T\n",
    "N_train = int(3e5)\n",
    "dim = 1\n",
    "use_increments = True\n",
    "model = 2\n",
    "N_save = [16000,16000,10000,16000,1000]\n",
    "\n",
    "#loading from saved trajectories, allows for only one dataset of trajectories usable for all trajectory lenghts\n",
    "train_path = \"datasets/trajectories/\"\n",
    "train_dataset = SingleModel_dataset_from_saved_trajs(path = train_path, task = 1, dim = dim, N_total = N_train,\n",
    "                                                  T = T, N_save = N_save[model], \n",
    "                                                  use_increments = use_increments, model = model)"
   ]
  },
  {
   "cell_type": "code",
   "execution_count": null,
   "id": "f724c62f",
   "metadata": {},
   "outputs": [],
   "source": []
  },
  {
   "cell_type": "code",
   "execution_count": null,
   "id": "9000a152",
   "metadata": {},
   "outputs": [],
   "source": []
  }
 ],
 "metadata": {
  "kernelspec": {
   "display_name": "Python 3 (ipykernel)",
   "language": "python",
   "name": "python3"
  },
  "language_info": {
   "codemirror_mode": {
    "name": "ipython",
    "version": 3
   },
   "file_extension": ".py",
   "mimetype": "text/x-python",
   "name": "python",
   "nbconvert_exporter": "python",
   "pygments_lexer": "ipython3",
   "version": "3.9.7"
  }
 },
 "nbformat": 4,
 "nbformat_minor": 5
}
